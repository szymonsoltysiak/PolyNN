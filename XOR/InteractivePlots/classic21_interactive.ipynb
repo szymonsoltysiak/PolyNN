{
 "cells": [
  {
   "cell_type": "code",
   "execution_count": 1,
   "id": "8c76de29-c136-41f5-95f5-2c5885abe700",
   "metadata": {
    "tags": []
   },
   "outputs": [],
   "source": [
    "import numpy as np\n",
    "import matplotlib.pyplot as plt\n",
    "from ipywidgets import interact, FloatSlider\n",
    "\n",
    "def sigmoid(x):\n",
    "    return 1 / (1 + np.exp(-x))\n",
    "\n",
    "inputs = np.array([[0, 0], [0, 1], [1, 0], [1, 1]])\n",
    "outputs = np.array([[0], [1], [1], [0]])"
   ]
  },
  {
   "cell_type": "code",
   "execution_count": 2,
   "id": "0e0c6421-4cad-4668-814c-3b29d31b0c19",
   "metadata": {
    "tags": []
   },
   "outputs": [],
   "source": [
    "def plot_decision_boundary(w1, w2, b):\n",
    "    weights_input_output = np.array([[w1], [w2]])  \n",
    "    bias_output = np.array([[b]])                  \n",
    "    \n",
    "    x_min, x_max = 0, 1\n",
    "    y_min, y_max = 0, 1\n",
    "    xx, yy = np.meshgrid(np.linspace(x_min, x_max, 100), np.linspace(y_min, y_max, 100))\n",
    "    grid = np.c_[xx.ravel(), yy.ravel()]\n",
    "\n",
    "    output_layer_activation = np.dot(grid, weights_input_output) + bias_output\n",
    "    grid_predictions = sigmoid(output_layer_activation)\n",
    "    \n",
    "    grid_predictions = grid_predictions.reshape(xx.shape)\n",
    "\n",
    "    plt.figure(figsize=(6, 6))\n",
    "    plt.contourf(xx, yy, grid_predictions, levels=[0, 0.5, 1], colors=['skyblue', 'darkgreen'], alpha=0.6)\n",
    "    plt.scatter(inputs[:, 0], inputs[:, 1], c=outputs[:, 0], edgecolor='k', marker='o', s=100)\n",
    "    plt.title('Interactive Neural Network Output (No Hidden Layer)')\n",
    "    plt.xlabel('x')\n",
    "    plt.ylabel('y')\n",
    "    plt.show()"
   ]
  },
  {
   "cell_type": "code",
   "execution_count": 3,
   "id": "3f794b41-319d-4c91-941a-5bb071921430",
   "metadata": {
    "tags": []
   },
   "outputs": [
    {
     "data": {
      "application/vnd.jupyter.widget-view+json": {
       "model_id": "c4c588f9092d4703864ae706831eb1c5",
       "version_major": 2,
       "version_minor": 0
      },
      "text/plain": [
       "interactive(children=(FloatSlider(value=2.930905098628047, description='w1', max=15.0, min=-15.0), FloatSlider…"
      ]
     },
     "metadata": {},
     "output_type": "display_data"
    },
    {
     "data": {
      "text/plain": [
       "<function __main__.plot_decision_boundary(w1, w2, b)>"
      ]
     },
     "execution_count": 3,
     "metadata": {},
     "output_type": "execute_result"
    }
   ],
   "source": [
    "interact(plot_decision_boundary,\n",
    "         w1=FloatSlider(min=-15, max=15, step=0.1, value=np.random.uniform(-10, 10)),\n",
    "         w2=FloatSlider(min=-15, max=15, step=0.1, value=np.random.uniform(-10, 10)),\n",
    "         b=FloatSlider(min=-15, max=15, step=0.1, value=np.random.uniform(-10, 10)))"
   ]
  }
 ],
 "metadata": {
  "kernelspec": {
   "display_name": "Python 3 (ipykernel)",
   "language": "python",
   "name": "python3"
  },
  "language_info": {
   "codemirror_mode": {
    "name": "ipython",
    "version": 3
   },
   "file_extension": ".py",
   "mimetype": "text/x-python",
   "name": "python",
   "nbconvert_exporter": "python",
   "pygments_lexer": "ipython3",
   "version": "3.11.5"
  }
 },
 "nbformat": 4,
 "nbformat_minor": 5
}
