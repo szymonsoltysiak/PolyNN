{
 "cells": [
  {
   "cell_type": "code",
   "execution_count": 3,
   "id": "f6f44b5a-1593-49bd-957b-63e66c6dd13e",
   "metadata": {
    "tags": []
   },
   "outputs": [],
   "source": [
    "import numpy as np\n",
    "import matplotlib.pyplot as plt\n",
    "from ipywidgets import interact, FloatSlider\n",
    "\n",
    "def sigmoid(x):\n",
    "    return 1 / (1 + np.exp(-x))\n",
    "\n",
    "inputs = np.array([[0, 0], [0, 1], [1, 0], [1, 1]])\n",
    "outputs = np.array([[0], [1], [1], [0]])"
   ]
  },
  {
   "cell_type": "code",
   "execution_count": 4,
   "id": "6fd2bdab-7355-4f87-8b3f-d042eda14787",
   "metadata": {
    "tags": []
   },
   "outputs": [],
   "source": [
    "def plot_decision_boundary(w1_11, w1_12, w1_21, w1_22, w2_1, w2_2, b1_1, b1_2, b2):\n",
    "    weights_input_hidden = np.array([[w1_11, w1_12], [w1_21, w1_22]])  \n",
    "    weights_hidden_output = np.array([[w2_1], [w2_2]])     \n",
    "    bias_hidden = np.array([[b1_1, b1_2]])           \n",
    "    bias_output = np.array([[b2]])                       \n",
    "\n",
    "    x_min, x_max = 0, 1\n",
    "    y_min, y_max = 0, 1\n",
    "    xx, yy = np.meshgrid(np.linspace(x_min, x_max, 100), np.linspace(y_min, y_max, 100))\n",
    "    grid = np.c_[xx.ravel(), yy.ravel()]\n",
    "\n",
    "    hidden_layer_activation = np.dot(grid, weights_input_hidden) + bias_hidden\n",
    "    hidden_layer_output = sigmoid(hidden_layer_activation)\n",
    "    output_layer_activation = np.dot(hidden_layer_output, weights_hidden_output) + bias_output\n",
    "    grid_predictions = sigmoid(output_layer_activation)\n",
    "    \n",
    "    grid_predictions = grid_predictions.reshape(xx.shape)\n",
    "\n",
    "    plt.figure(figsize=(6, 6))\n",
    "    plt.contourf(xx, yy, grid_predictions, levels=[0, 0.5, 1], colors=['skyblue', 'darkgreen'], alpha=0.6)\n",
    "    plt.scatter([0,1], [0,1], edgecolors='k', color='skyblue', marker='o', s=500)\n",
    "    plt.scatter([1,0], [0,1], edgecolors='k', color='darkgreen', marker='o', s=500)\n",
    "    plt.title('Interactive Neural Network Output')\n",
    "    plt.xlabel('x')\n",
    "    plt.ylabel('y')\n",
    "    plt.show()"
   ]
  },
  {
   "cell_type": "markdown",
   "id": "d2a33c17-8cef-4e34-b08f-0fb90d0b5bf4",
   "metadata": {
    "tags": []
   },
   "source": [
    "Try to match the colors in the corner"
   ]
  },
  {
   "cell_type": "code",
   "execution_count": 5,
   "id": "4e1cd2cf-bfe5-4e5d-a80e-19dc64284ab4",
   "metadata": {
    "tags": []
   },
   "outputs": [
    {
     "data": {
      "application/vnd.jupyter.widget-view+json": {
       "model_id": "61ebe53831684271a258cf5de35e13ec",
       "version_major": 2,
       "version_minor": 0
      },
      "text/plain": [
       "interactive(children=(FloatSlider(value=-1.92854182161906, description='w1_11', max=15.0, min=-15.0), FloatSli…"
      ]
     },
     "metadata": {},
     "output_type": "display_data"
    },
    {
     "data": {
      "text/plain": [
       "<function __main__.plot_decision_boundary(w1_11, w1_12, w1_21, w1_22, w2_1, w2_2, b1_1, b1_2, b2)>"
      ]
     },
     "execution_count": 5,
     "metadata": {},
     "output_type": "execute_result"
    }
   ],
   "source": [
    "interact(plot_decision_boundary,\n",
    "         w1_11=FloatSlider(min=-15, max=15, step=0.1, value=np.random.uniform(-10, 10)),\n",
    "         w1_12=FloatSlider(min=-15, max=15, step=0.1, value=np.random.uniform(-10, 10)),\n",
    "         w1_21=FloatSlider(min=-15, max=15, step=0.1, value=np.random.uniform(-10, 10)),\n",
    "         w1_22=FloatSlider(min=-15, max=15, step=0.1, value=np.random.uniform(-10, 10)),\n",
    "         w2_1=FloatSlider(min=-15, max=15, step=0.1, value=np.random.uniform(-10, 10)),\n",
    "         w2_2=FloatSlider(min=-15, max=15, step=0.1, value=np.random.uniform(-10, 10)),\n",
    "         b1_1=FloatSlider(min=-15, max=15, step=0.1, value=np.random.uniform(-10, 10)),\n",
    "         b1_2=FloatSlider(min=-15, max=15, step=0.1, value=np.random.uniform(-10, 10)),\n",
    "         b2=FloatSlider(min=-15, max=15, step=0.1, value=np.random.uniform(-10, 10)))"
   ]
  }
 ],
 "metadata": {
  "kernelspec": {
   "display_name": "Python 3 (ipykernel)",
   "language": "python",
   "name": "python3"
  },
  "language_info": {
   "codemirror_mode": {
    "name": "ipython",
    "version": 3
   },
   "file_extension": ".py",
   "mimetype": "text/x-python",
   "name": "python",
   "nbconvert_exporter": "python",
   "pygments_lexer": "ipython3",
   "version": "3.11.5"
  }
 },
 "nbformat": 4,
 "nbformat_minor": 5
}
