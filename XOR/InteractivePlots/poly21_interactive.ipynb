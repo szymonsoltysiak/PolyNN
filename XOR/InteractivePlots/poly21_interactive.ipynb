{
 "cells": [
  {
   "cell_type": "code",
   "execution_count": 12,
   "id": "b2f83620-9e36-41b1-9129-c053cd09f5ed",
   "metadata": {
    "tags": []
   },
   "outputs": [],
   "source": [
    "import numpy as np\n",
    "import matplotlib.pyplot as plt\n",
    "from ipywidgets import interact, FloatSlider\n",
    "\n",
    "def sigmoid(x):\n",
    "    return 1 / (1 + np.exp(-x))\n",
    "\n",
    "inputs = np.array([[0 + 0, 0 * 0],  # x + y, x * y\n",
    "                   [0 + 1, 0 * 1],  \n",
    "                   [1 + 0, 1 * 0],  \n",
    "                   [1 + 1, 1 * 1]]) \n",
    "\n",
    "outputs = np.array([[0], [1], [1], [0]])"
   ]
  },
  {
   "cell_type": "code",
   "execution_count": 15,
   "id": "f339103a-4f5b-40f4-a453-0aba390ceb33",
   "metadata": {
    "tags": []
   },
   "outputs": [],
   "source": [
    "def plot_decision_boundary(w1, w2, b):\n",
    "    weights_input_output = np.array([[w1], [w2]])\n",
    "    bias_output = np.array([[b]])\n",
    "\n",
    "    x_min, x_max = 0, 1\n",
    "    y_min, y_max = 0, 1\n",
    "    xx, yy = np.meshgrid(np.linspace(x_min, x_max, 100), np.linspace(y_min, y_max, 100))\n",
    "    \n",
    "    xy_sum = xx + yy\n",
    "    xy_product = xx * yy\n",
    "    grid = np.c_[xy_sum.ravel(), xy_product.ravel()]\n",
    "\n",
    "    output_layer_activation = np.dot(grid, weights_input_output) + bias_output\n",
    "    grid_predictions = sigmoid(output_layer_activation)\n",
    "    grid_predictions = grid_predictions.reshape(xx.shape)\n",
    "\n",
    "    plt.figure(figsize=(6, 6))\n",
    "    plt.contourf(xx, yy, grid_predictions, levels=[0, 0.5, 1], colors=['skyblue', 'darkgreen'], alpha=0.6)\n",
    "    plt.scatter([0, 1], [0, 1], edgecolors='k', color='skyblue', marker='o', s=500)\n",
    "    plt.scatter([1, 0], [0, 1], edgecolors='k', color='darkgreen', marker='o', s=500)  \n",
    "    plt.title('Interactive Neural Network Output')\n",
    "    plt.xlabel('x')\n",
    "    plt.ylabel('y')\n",
    "    plt.show()"
   ]
  },
  {
   "cell_type": "code",
   "execution_count": 16,
   "id": "746dff40-0d79-4e11-8c0d-0b677d9b0b33",
   "metadata": {
    "tags": []
   },
   "outputs": [
    {
     "data": {
      "application/vnd.jupyter.widget-view+json": {
       "model_id": "ba537c58e7a847c4860003c56dc01bed",
       "version_major": 2,
       "version_minor": 0
      },
      "text/plain": [
       "interactive(children=(FloatSlider(value=3.3148222984400295, description='w1', max=15.0, min=-15.0), FloatSlide…"
      ]
     },
     "metadata": {},
     "output_type": "display_data"
    },
    {
     "data": {
      "text/plain": [
       "<function __main__.plot_decision_boundary(w1, w2, b)>"
      ]
     },
     "execution_count": 16,
     "metadata": {},
     "output_type": "execute_result"
    }
   ],
   "source": [
    "interact(plot_decision_boundary,\n",
    "         w1=FloatSlider(min=-15, max=15, step=0.1, value=np.random.uniform(-10, 10)),\n",
    "         w2=FloatSlider(min=-15, max=15, step=0.1, value=np.random.uniform(-10, 10)),\n",
    "         b=FloatSlider(min=-15, max=15, step=0.1, value=np.random.uniform(-10, 10)))"
   ]
  }
 ],
 "metadata": {
  "kernelspec": {
   "display_name": "Python 3 (ipykernel)",
   "language": "python",
   "name": "python3"
  },
  "language_info": {
   "codemirror_mode": {
    "name": "ipython",
    "version": 3
   },
   "file_extension": ".py",
   "mimetype": "text/x-python",
   "name": "python",
   "nbconvert_exporter": "python",
   "pygments_lexer": "ipython3",
   "version": "3.11.5"
  }
 },
 "nbformat": 4,
 "nbformat_minor": 5
}
