{
 "cells": [
  {
   "cell_type": "code",
   "execution_count": 4,
   "id": "664f02d0-653d-4291-ba55-54a988a00abe",
   "metadata": {
    "tags": []
   },
   "outputs": [],
   "source": [
    "import numpy as np\n",
    "import matplotlib.pyplot as plt\n",
    "from ipywidgets import interact, FloatSlider\n",
    "\n",
    "def sigmoid(x):\n",
    "    return 1 / (1 + np.exp(-x))\n",
    "\n",
    "inputs = np.array([[0, 0, 0],  # x, y, x*y\n",
    "                   [0, 1, 0],  \n",
    "                   [1, 0, 0],  \n",
    "                   [1, 1, 1]]) \n",
    "\n",
    "outputs = np.array([[0], [1], [1], [0]])"
   ]
  },
  {
   "cell_type": "code",
   "execution_count": 5,
   "id": "f12fefea-2401-428a-a7a5-809492976b6f",
   "metadata": {
    "tags": []
   },
   "outputs": [],
   "source": [
    "def plot_decision_boundary(w1, w2, w3, b):\n",
    "    weights_input_output = np.array([[w1], [w2], [w3]])\n",
    "    bias_output = np.array([[b]])\n",
    "\n",
    "    x_min, x_max = 0, 1\n",
    "    y_min, y_max = 0, 1\n",
    "    xx, yy = np.meshgrid(np.linspace(x_min, x_max, 100), np.linspace(y_min, y_max, 100))\n",
    "    xy = xx * yy\n",
    "    grid = np.c_[xx.ravel(), yy.ravel(), xy.ravel()]\n",
    "\n",
    "    output_layer_activation = np.dot(grid, weights_input_output) + bias_output\n",
    "    grid_predictions = sigmoid(output_layer_activation)\n",
    "    grid_predictions = grid_predictions.reshape(xx.shape)\n",
    "\n",
    "    plt.figure(figsize=(6, 6))\n",
    "    plt.contourf(xx, yy, grid_predictions, levels=[0, 0.5, 1], colors=['skyblue', 'darkgreen'], alpha=0.6)\n",
    "    plt.scatter(inputs[:, 0], inputs[:, 1], c=outputs[:, 0], edgecolor='k', marker='o', s=100)\n",
    "    plt.title('Interactive Neural Network Output')\n",
    "    plt.xlabel('x')\n",
    "    plt.ylabel('y')\n",
    "    plt.show()"
   ]
  },
  {
   "cell_type": "code",
   "execution_count": 9,
   "id": "d4dbd357-a858-4a1b-88a6-602abe2f662c",
   "metadata": {
    "tags": []
   },
   "outputs": [
    {
     "data": {
      "application/vnd.jupyter.widget-view+json": {
       "model_id": "a0faf42f80d2439a97436977eddb2fca",
       "version_major": 2,
       "version_minor": 0
      },
      "text/plain": [
       "interactive(children=(FloatSlider(value=-1.9426787616398027, description='w1', max=15.0, min=-15.0), FloatSlid…"
      ]
     },
     "metadata": {},
     "output_type": "display_data"
    },
    {
     "data": {
      "text/plain": [
       "<function __main__.plot_decision_boundary(w1, w2, w3, b)>"
      ]
     },
     "execution_count": 9,
     "metadata": {},
     "output_type": "execute_result"
    }
   ],
   "source": [
    "interact(plot_decision_boundary,\n",
    "         w1=FloatSlider(min=-15, max=15, step=0.1, value=np.random.uniform(-10, 10)),\n",
    "         w2=FloatSlider(min=-15, max=15, step=0.1, value=np.random.uniform(-10, 10)),\n",
    "         w3=FloatSlider(min=-15, max=15, step=0.1, value=np.random.uniform(-10, 10)),\n",
    "         b=FloatSlider(min=-15, max=15, step=0.1, value=np.random.uniform(-10, 10)))"
   ]
  }
 ],
 "metadata": {
  "kernelspec": {
   "display_name": "Python 3 (ipykernel)",
   "language": "python",
   "name": "python3"
  },
  "language_info": {
   "codemirror_mode": {
    "name": "ipython",
    "version": 3
   },
   "file_extension": ".py",
   "mimetype": "text/x-python",
   "name": "python",
   "nbconvert_exporter": "python",
   "pygments_lexer": "ipython3",
   "version": "3.11.5"
  }
 },
 "nbformat": 4,
 "nbformat_minor": 5
}
